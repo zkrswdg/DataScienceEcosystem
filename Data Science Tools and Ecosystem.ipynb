{
 "cells": [
  {
   "cell_type": "markdown",
   "id": "31fdfdc1-7b7a-4299-9938-6af205156b3d",
   "metadata": {},
   "source": [
    "<H1>Data Science Tools and Ecosystem</H1>"
   ]
  },
  {
   "cell_type": "markdown",
   "id": "174ba2de-a38e-4478-baca-d8bd7e7a16f1",
   "metadata": {},
   "source": [
    "In this notebook, Data Science Tools and Ecosystem are summarized"
   ]
  },
  {
   "cell_type": "markdown",
   "id": "182d9de1-2a8f-4278-b2c2-d5a22db0e16d",
   "metadata": {},
   "source": [
    "<H1> Objectives:</H1>\n",
    "<ul><li>Create a Jupyter Notebook</li></ul>\n",
    "<ul><li>Insert code and markdown cells</li></ul>\n",
    "<ul><li>Share your notebook through GitHub</li></ul>"
   ]
  },
  {
   "cell_type": "markdown",
   "id": "93bf9890-9922-4e76-81f0-16281516cdc9",
   "metadata": {},
   "source": [
    "Some of the popular languages that Data Scientists use are:\n",
    "<br>1-Python\n",
    "<br>2-R\n",
    "<br>3-Java\n",
    "<br>4-Scala\n"
   ]
  },
  {
   "cell_type": "markdown",
   "id": "3f7c60f4-1abf-4e71-905e-e32cb29b5e34",
   "metadata": {},
   "source": [
    "Some of the commonly used libraries used by Data Scientists include:\n",
    "<br>1-Pandas\n",
    "<br>2-Numpy\n",
    "<br>3-Matplotlib\n",
    "<br>4-Scikit Learen\n",
    "<br>5-Keras\n"
   ]
  },
  {
   "cell_type": "markdown",
   "id": "930c23c0-c33b-47b8-a421-66beac81de94",
   "metadata": {
    "tags": []
   },
   "source": [
    "<table>\n",
    "  <tr>\n",
    "    <td>Data Science Tools</td>\n",
    "  </tr>\n",
    "  <tr>\n",
    "    <td>Python</td>\n",
    "    <td>SQL</td>\n",
    "    <td>Jupyter Notebook</td>\n",
    "    <td>RStudio</td> \n",
    "  </tr>\n",
    "  <tr>"
   ]
  },
  {
   "cell_type": "markdown",
   "id": "f1443a2b-8756-444d-babe-f3a261d6e2bf",
   "metadata": {},
   "source": [
    "<H3>Below are a few examples of evaluating arithmetic expressions in Python</H3>\n",
    "<Br>2 + 3 = 5\n",
    "<Br>8 - 4 = 4\n",
    "<Br>5 * 4 = 20\n",
    "<Br>10 / 2 = 5\n",
    "<Br>10 % 3 = 1\n",
    "    "
   ]
  },
  {
   "cell_type": "code",
   "execution_count": 18,
   "id": "d0fcc39c-5625-4564-a233-b3e4aa520280",
   "metadata": {
    "tags": []
   },
   "outputs": [
    {
     "data": {
      "text/plain": [
       "17"
      ]
     },
     "execution_count": 18,
     "metadata": {},
     "output_type": "execute_result"
    }
   ],
   "source": [
    " #This a simple arithmetic expression to mutiply then add integers'\n",
    "\n",
    "(3*4)+5"
   ]
  },
  {
   "cell_type": "code",
   "execution_count": 19,
   "id": "20b84afc-af8f-416c-a003-c74adba13df9",
   "metadata": {
    "tags": []
   },
   "outputs": [
    {
     "data": {
      "text/plain": [
       "3.3333333333333335"
      ]
     },
     "execution_count": 19,
     "metadata": {},
     "output_type": "execute_result"
    }
   ],
   "source": [
    "#This will convert 200 minutes to hours by diving by 60\n",
    "200/60"
   ]
  },
  {
   "cell_type": "markdown",
   "id": "9b7e7da5-d222-4637-8b6d-414ece83e15c",
   "metadata": {},
   "source": [
    "<H2>Author</H2>\n",
    "Zakaria SAWADOGO"
   ]
  },
  {
   "cell_type": "code",
   "execution_count": null,
   "id": "b49089cc-c1c8-470e-a318-f1b7e83fbcec",
   "metadata": {},
   "outputs": [],
   "source": []
  }
 ],
 "metadata": {
  "kernelspec": {
   "display_name": "Python",
   "language": "python",
   "name": "conda-env-python-py"
  },
  "language_info": {
   "codemirror_mode": {
    "name": "ipython",
    "version": 3
   },
   "file_extension": ".py",
   "mimetype": "text/x-python",
   "name": "python",
   "nbconvert_exporter": "python",
   "pygments_lexer": "ipython3",
   "version": "3.7.12"
  }
 },
 "nbformat": 4,
 "nbformat_minor": 5
}
